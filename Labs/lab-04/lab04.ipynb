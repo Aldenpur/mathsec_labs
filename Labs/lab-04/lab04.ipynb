{
  "nbformat": 4,
  "nbformat_minor": 0,
  "metadata": {
    "colab": {
      "provenance": []
    },
    "kernelspec": {
      "name": "python3",
      "display_name": "Python 3"
    },
    "language_info": {
      "name": "python"
    }
  },
  "cells": [
    {
      "cell_type": "code",
      "source": [
        "a = int(input())\n",
        "b = int(input())\n",
        "d = None\n",
        "\n",
        "r0 = a; r1 = b\n",
        "r2 = None\n",
        "\n",
        "while r2 != 0:\n",
        "  d = r2\n",
        "  r2 = r0 % r1\n",
        "  r0 = r1\n",
        "  r1 = r2\n",
        "\n",
        "print(\"НОД =\", d)"
      ],
      "metadata": {
        "colab": {
          "base_uri": "https://localhost:8080/"
        },
        "id": "yh1-eTZsYd-p",
        "outputId": "ad2e0ed1-1a32-451b-ef6b-f4ea27723725"
      },
      "execution_count": 23,
      "outputs": [
        {
          "output_type": "stream",
          "name": "stdout",
          "text": [
            "48\n",
            "36\n",
            "НОД = 12\n"
          ]
        }
      ]
    },
    {
      "cell_type": "code",
      "source": [
        "a = int(input())\n",
        "b = int(input())\n",
        "d = None\n",
        "\n",
        "g = 1\n",
        "\n",
        "while (a % 2 == 0) & (b % 2 == 0):\n",
        "  a /= 2; b /= 2; g *= 2\n",
        "\n",
        "u = a; v = b\n",
        "\n",
        "while u != 0:\n",
        "  while u % 2 == 0:\n",
        "    u /= 2\n",
        "  while v % 2 == 0:\n",
        "    v /= 2\n",
        "  if u >= v:\n",
        "    u = u - v\n",
        "  else:\n",
        "    v = v - u\n",
        "\n",
        "d = g*v\n",
        "print(\"НОД =\", d)"
      ],
      "metadata": {
        "colab": {
          "base_uri": "https://localhost:8080/"
        },
        "id": "UJ0pK_w_YeQx",
        "outputId": "3be52754-66ce-4399-f15a-3de680d7aa4f"
      },
      "execution_count": 25,
      "outputs": [
        {
          "output_type": "stream",
          "name": "stdout",
          "text": [
            "48 \n",
            "36\n",
            "НОД = 12.0\n"
          ]
        }
      ]
    },
    {
      "cell_type": "code",
      "source": [
        "a = int(input())\n",
        "b = int(input())\n",
        "d = None\n",
        "\n",
        "r0 = a; r1 = b\n",
        "r2 = None\n",
        "x0 = 1; x1 = 0; y0 = 0; y1 = 1\n",
        "x2 = None; y2 = None\n",
        "\n",
        "while r2 != 0:\n",
        "  d = r2\n",
        "  x = x2\n",
        "  y = y2\n",
        "  r2 = r0 % r1\n",
        "  q = r0 // r1\n",
        "  r0 = r1\n",
        "  r1 = r2\n",
        "  x2 = x0 - q * x1\n",
        "  y2 = y0 - q * y1\n",
        "\n",
        "print(\"НОД =\", d)\n",
        "print(x, y, a*x + b*y)"
      ],
      "metadata": {
        "colab": {
          "base_uri": "https://localhost:8080/"
        },
        "id": "UgoYy7FIYeVI",
        "outputId": "bf2b680b-00b0-44d6-e561-d40ef138700c"
      },
      "execution_count": 30,
      "outputs": [
        {
          "output_type": "stream",
          "name": "stdout",
          "text": [
            "48 \n",
            "36\n",
            "НОД = 12\n",
            "1 -1 12\n"
          ]
        }
      ]
    },
    {
      "cell_type": "code",
      "source": [
        "a = int(input())\n",
        "b = int(input())\n",
        "d = None\n",
        "\n",
        "g = 1\n",
        "\n",
        "while (a % 2 == 0) & (b % 2 == 0):\n",
        "  a /= 2; b /= 2; g *= 2\n",
        "\n",
        "u = a; v = b\n",
        "A = 1; B = 0; C = 0; D = 1\n",
        "\n",
        "while u != 0:\n",
        "  while u % 2 == 0:\n",
        "    u /= 2\n",
        "    if (A % 2 == 0) & (B % 2 == 0):\n",
        "      A /= 2; B /= 2\n",
        "    else:\n",
        "      A = (A+b)/2; B = (B-a)/2\n",
        "  while v % 2 == 0:\n",
        "    v /= 2\n",
        "    if (C % 2 == 0) & (D % 2 == 0):\n",
        "      C /= 2; D /= 2\n",
        "    else:\n",
        "      C = (C+b)/2; D = (D-a)/2\n",
        "  if u >= v:\n",
        "    u = u - v\n",
        "    A -= C\n",
        "    B -= D\n",
        "  else:\n",
        "    v = v - u\n",
        "    C -= A\n",
        "    D -= B\n",
        "\n",
        "d = g*v\n",
        "x = C\n",
        "y = D\n",
        "print(\"НОД =\", d)\n",
        "print(x, y, d)"
      ],
      "metadata": {
        "colab": {
          "base_uri": "https://localhost:8080/"
        },
        "id": "Tglx0Rx6YeZs",
        "outputId": "1a51401f-0490-45dd-f5b9-10b8cfdcf9b1"
      },
      "execution_count": 32,
      "outputs": [
        {
          "output_type": "stream",
          "name": "stdout",
          "text": [
            "48\n",
            "36\n",
            "НОД = 12.0\n",
            "1.0 -1.0 12.0\n"
          ]
        }
      ]
    }
  ]
}