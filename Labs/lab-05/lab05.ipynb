{
  "nbformat": 4,
  "nbformat_minor": 0,
  "metadata": {
    "colab": {
      "provenance": []
    },
    "kernelspec": {
      "name": "python3",
      "display_name": "Python 3"
    },
    "language_info": {
      "name": "python"
    }
  },
  "cells": [
    {
      "cell_type": "code",
      "execution_count": 28,
      "metadata": {
        "colab": {
          "base_uri": "https://localhost:8080/"
        },
        "id": "h-IeR8Axaf6O",
        "outputId": "0b1a7616-2f5c-47c9-94c8-7bda0373d98e"
      },
      "outputs": [
        {
          "output_type": "stream",
          "name": "stdout",
          "text": [
            "15\n",
            "Составное\n"
          ]
        }
      ],
      "source": [
        "import numpy as np\n",
        "\n",
        "n = int(input()) # n >= 5 нечет\n",
        "a = np.random.randint(2, n-2)\n",
        "r = a ** (n - 1) % n\n",
        "if r == 1:\n",
        "    print(\"Вероятно, простое\")\n",
        "else:\n",
        "    print(\"Составное\")\n"
      ]
    },
    {
      "cell_type": "code",
      "source": [
        "n = int(input()) # n > 3 нечет\n",
        "a = int(input()) # 0 < a < n\n",
        "\n",
        "\n",
        "def jac(n, a):\n",
        "  g = 1\n",
        "  while True:\n",
        "    if a == 0:\n",
        "      return 0\n",
        "    if a == 1:\n",
        "      return g\n",
        "    k, a1 = odd(a)\n",
        "    if k % 2 == 0:\n",
        "      s = 1\n",
        "    else:\n",
        "      if n % 8 == 1 or n % 8 == -1:\n",
        "        s = 1\n",
        "      elif n % 8 == 3 or n % 8 == -3:\n",
        "        s = -1\n",
        "    if a1 == 1:\n",
        "      return g * s\n",
        "    if (n % 4 == 3) & (a1 % 4 == 3):\n",
        "      s = -s\n",
        "    a = n % a1\n",
        "    n = a1\n",
        "    g = g * s\n",
        "\n",
        "def odd(a):\n",
        "  k = 0\n",
        "  while a % 2 == 0:\n",
        "    k += 1\n",
        "    a /= 2\n",
        "  return k, a\n",
        "\n",
        "print(jac(n, a))"
      ],
      "metadata": {
        "colab": {
          "base_uri": "https://localhost:8080/"
        },
        "id": "HhM67UPHoSzv",
        "outputId": "0e1f99b0-cd1d-42fc-93eb-709738665fd8"
      },
      "execution_count": 31,
      "outputs": [
        {
          "output_type": "stream",
          "name": "stdout",
          "text": [
            "5 \n",
            "5\n",
            "0\n"
          ]
        }
      ]
    },
    {
      "cell_type": "code",
      "source": [
        "n = int(input()) #n >= 5\n",
        "a = np.random.randint(2, n-3)\n",
        "r = a ** ((n - 1)/2) % n\n",
        "if r != 1 and r != (n-1):\n",
        "    print(\"Составное\")\n",
        "else:\n",
        "    t = jac(n, a)\n",
        "    if r % n == t:\n",
        "        print(\"Составное\")\n",
        "    else:\n",
        "        print(\"Вероятно, простое\")"
      ],
      "metadata": {
        "colab": {
          "base_uri": "https://localhost:8080/"
        },
        "id": "Qb4f0zN9tjC5",
        "outputId": "67ea5185-b7c6-4832-c760-31f388c9e286"
      },
      "execution_count": 38,
      "outputs": [
        {
          "output_type": "stream",
          "name": "stdout",
          "text": [
            "15\n",
            "Составное\n"
          ]
        }
      ]
    },
    {
      "cell_type": "code",
      "source": [
        "n = int(input()) #n >= 5 нечет\n",
        "s, r = odd(n - 1)\n",
        "a = np.random.randint(2, n-2)\n",
        "y = a ** r % n\n",
        "flag = False\n",
        "if y != 1 and y != (n - 1):\n",
        "    j = 1\n",
        "    while j <= (s - 1) and y != (n - 1):\n",
        "        y = y ** 2 % n\n",
        "        if y == 1:\n",
        "            flag = True\n",
        "        j += 1\n",
        "    if y != (n - 1):\n",
        "        flag = True\n",
        "if flag:\n",
        "    print(\"Составное\")\n",
        "else:\n",
        "    print(\"Вероятно, простое\")"
      ],
      "metadata": {
        "colab": {
          "base_uri": "https://localhost:8080/"
        },
        "id": "-JObVmdp5Kpc",
        "outputId": "3a196cff-a1fd-489f-af68-435874dbc7c6"
      },
      "execution_count": 42,
      "outputs": [
        {
          "output_type": "stream",
          "name": "stdout",
          "text": [
            "15\n",
            "Составное\n"
          ]
        }
      ]
    }
  ]
}